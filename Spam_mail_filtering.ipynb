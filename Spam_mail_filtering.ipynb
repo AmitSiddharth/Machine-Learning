{
 "cells": [
  {
   "cell_type": "code",
   "execution_count": 36,
   "id": "98c480b2",
   "metadata": {},
   "outputs": [],
   "source": [
    "import pandas as pd\n",
    "from sklearn.model_selection import train_test_split\n",
    "from sklearn.feature_extraction.text import CountVectorizer\n",
    "from sklearn.naive_bayes import MultinomialNB,GaussianNB\n",
    "from sklearn.metrics import confusion_matrix,classification_report\n",
    "import matplotlib.pyplot as plt\n",
    "\n",
    "# Load the data\n",
    "data = pd.read_csv('spam_ham_dataset.csv')\n",
    "\n"
   ]
  },
  {
   "cell_type": "code",
   "execution_count": 44,
   "id": "a26825c9",
   "metadata": {},
   "outputs": [
    {
     "name": "stdout",
     "output_type": "stream",
     "text": [
      "<class 'scipy.sparse._csr.csr_matrix'>\n"
     ]
    }
   ],
   "source": [
    "# Split the data into training and testing sets\n",
    "X_train, X_test, y_train, y_test = train_test_split(data['text'], data['label'], test_size=0.2, random_state=42)\n",
    "\n",
    "# Vectorize the text data using CountVectorizer,CountVectorizer takes a corpus of text and converts it into a\n",
    "#numerical representation that can be used as input to machine learning models. It works by first tokenizing\n",
    "# the text into words or n-grams, and then counting the frequency of each word or n-gram in each document. \n",
    "vectorizer = CountVectorizer()\n",
    "X_train_vectorized = vectorizer.fit_transform(X_train)\n",
    "#print(type(X_train_vectorized))\n",
    "# Train the MultinomialNB Naive Bayes classifier,This classifier is suitable for discrete data, such as word counts,\n",
    "#it calculates the probability of each class given the word frequency.\n",
    "clf = MultinomialNB()\n",
    "clf.fit(X_train_vectorized, y_train)\n",
    "\n",
    "# Evaluate the performance of the classifier\n",
    "X_test_vectorized = vectorizer.transform(X_test)\n",
    "y_pred=clf.predict(X_test_vectorized)\n",
    "#print(type(y_pred),type(y_test.values))\n",
    "#y_pred=y_pred.reshape(-1,1)"
   ]
  },
  {
   "cell_type": "code",
   "execution_count": 38,
   "id": "ec62f704",
   "metadata": {},
   "outputs": [
    {
     "name": "stdout",
     "output_type": "stream",
     "text": [
      "[[729  16]\n",
      " [ 13 277]]\n"
     ]
    }
   ],
   "source": [
    "#Printing the confusion matrix\n",
    "cm=confusion_matrix(y_pred,y_test)\n",
    "print(cm)"
   ]
  },
  {
   "cell_type": "code",
   "execution_count": 45,
   "id": "3e297ab9",
   "metadata": {},
   "outputs": [
    {
     "name": "stdout",
     "output_type": "stream",
     "text": [
      "Correct classification  1006 Incorrect classification  29\n",
      "Accuracy of the classification is: 97.19806763285024\n"
     ]
    }
   ],
   "source": [
    "#Accuracy\n",
    "a1=cm.shape\n",
    "c1=0\n",
    "w1=0\n",
    "for i in range (a1[0]):\n",
    "    for j in range(a1[1]):\n",
    "        if i==j:\n",
    "            c1+=cm[i,j]\n",
    "        else:\n",
    "            w1+=cm[i,j]\n",
    "print(\"Correct classification \",c1,\"Incorrect classification \",w1)\n",
    "print(\"Accuracy of the classification is:\",(c1/(c1+w1))*100)"
   ]
  },
  {
   "cell_type": "code",
   "execution_count": 33,
   "id": "c7eec0b9",
   "metadata": {},
   "outputs": [
    {
     "name": "stdout",
     "output_type": "stream",
     "text": [
      "              precision    recall  f1-score   support\n",
      "\n",
      "         ham       0.98      0.98      0.98       745\n",
      "        spam       0.95      0.96      0.95       290\n",
      "\n",
      "    accuracy                           0.97      1035\n",
      "   macro avg       0.96      0.97      0.97      1035\n",
      "weighted avg       0.97      0.97      0.97      1035\n",
      "\n"
     ]
    }
   ],
   "source": [
    "#Evaluating the model using F1 score, Precision, recall\n",
    "print(classification_report(y_pred,y_test))"
   ]
  }
 ],
 "metadata": {
  "kernelspec": {
   "display_name": "Python 3 (ipykernel)",
   "language": "python",
   "name": "python3"
  },
  "language_info": {
   "codemirror_mode": {
    "name": "ipython",
    "version": 3
   },
   "file_extension": ".py",
   "mimetype": "text/x-python",
   "name": "python",
   "nbconvert_exporter": "python",
   "pygments_lexer": "ipython3",
   "version": "3.9.13"
  }
 },
 "nbformat": 4,
 "nbformat_minor": 5
}
